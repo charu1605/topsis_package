{
 "cells": [
  {
   "cell_type": "code",
   "execution_count": 4,
   "metadata": {},
   "outputs": [],
   "source": [
    "import numpy as np\n",
    "#DECISION MATRIX\n",
    "decision_matrix=np.array([\n",
    "    [9,7,1,2],\n",
    "    [11,3,5,7],\n",
    "    [6,5,4,6],\n",
    "    [8,9,3,7],\n",
    "    [7,9,4,5],\n",
    "])"
   ]
  },
  {
   "cell_type": "code",
   "execution_count": 5,
   "metadata": {},
   "outputs": [
    {
     "name": "stdout",
     "output_type": "stream",
     "text": [
      "Closeness Coefficients:  [0.47890738 0.55102249 0.3817979  0.6828187  0.58851503]\n",
      "Best Alternative:  4\n"
     ]
    }
   ],
   "source": [
    "#Criteria Weights\n",
    "weights=np.array([0.4, 0.3, 0.1,0.2])\n",
    "#Normalize the decision matrix\n",
    "normalized_matrix=decision_matrix/np.sqrt((decision_matrix**2).sum(axis=0))\n",
    "#Calculate the weighted normalized matrix\n",
    "weighted_normalized_matrix=normalized_matrix *weights\n",
    "#Determine the ideal and negative ideal solutions\n",
    "ideal_solution=np.array([weighted_normalized_matrix[:,i].max() if weights[i] > 0 else weighted_normalized_matrix[:,i].min() for i in range(len(weights))])\n",
    "negative_ideal_solution=np.array([weighted_normalized_matrix[:,i].min() if weights[i] > 0 else weighted_normalized_matrix[:,i].max() for i in range(len(weights))])\n",
    "#Calculate the separation measures\n",
    "euclidean_distance_ideal = np.sqrt(((weighted_normalized_matrix - ideal_solution)**2).sum(axis=1))\n",
    "euclidean_distance_negative_ideal = np.sqrt(((weighted_normalized_matrix - negative_ideal_solution)**2).sum(axis=1))\n",
    "#Calculate teh relative closeness to the ideal solution\n",
    "closeness_coefficients=euclidean_distance_negative_ideal / (euclidean_distance_ideal + euclidean_distance_negative_ideal)\n",
    "#Determine the best alternative \n",
    "best_alternative = np.argmax(closeness_coefficients)\n",
    "print(\"Closeness Coefficients: \", closeness_coefficients)\n",
    "print(\"Best Alternative: \", best_alternative +1)"
   ]
  },
  {
   "cell_type": "code",
   "execution_count": null,
   "metadata": {},
   "outputs": [],
   "source": []
  }
 ],
 "metadata": {
  "kernelspec": {
   "display_name": "Python 3",
   "language": "python",
   "name": "python3"
  },
  "language_info": {
   "codemirror_mode": {
    "name": "ipython",
    "version": 3
   },
   "file_extension": ".py",
   "mimetype": "text/x-python",
   "name": "python",
   "nbconvert_exporter": "python",
   "pygments_lexer": "ipython3",
   "version": "3.8.10"
  }
 },
 "nbformat": 4,
 "nbformat_minor": 2
}
